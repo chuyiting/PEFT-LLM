{
 "cells": [
  {
   "cell_type": "code",
   "execution_count": 3,
   "metadata": {},
   "outputs": [],
   "source": [
    "import pandas as pd\n"
   ]
  },
  {
   "cell_type": "code",
   "execution_count": 14,
   "metadata": {},
   "outputs": [
    {
     "name": "stdout",
     "output_type": "stream",
     "text": [
      "[1054, 315, 1345, 2488, 1392, 2586, 2306, 1005, 2532, 1700, 77, 1507, 1516, 1084, 706, 1316, 871, 1338, 74, 256, 1941, 483, 2518, 328, 1672, 1963, 2087, 366, 1119, 2181, 2135, 1697, 452, 987, 1336, 528, 1999, 137, 224, 102, 373, 158, 1680, 638, 511, 536, 583, 617, 186, 15, 557, 1722, 1708, 190, 1387, 1444, 2288, 2140, 1496, 969, 2051, 1690, 2022, 1227, 655, 1247, 1936, 981, 1191, 1929, 1563, 1172, 1828, 462, 222, 2131, 602, 1510, 1911, 2383, 1354, 533, 2556, 220, 1534, 487, 1866, 38, 25, 1170, 2237, 2517, 661, 2449, 1765, 1908, 911, 267, 621, 906]\n",
      "[109, 64, 109, 64, 64, 109, 109, 109, 109, 52, 109, 109, 109, 64, 109, 91, 64, 109, 64, 109, 109, 64, 109, 109, 109, 109, 18, 52, 109, 109, 99, 22, 18, 97, 24, 52, 97, 42, 22, 64, 64, 109, 24, 24, 99, 42, 99, 100, 24, 109, 5, 35, 85, 52, 35, 99, 106, 109, 64, 64, 24, 2, 42, 18, 57, 24, 50, 12, 87, 52, 84, 113, 12, 109, 99, 79, 99, 35, 64, 6, 103, 42, 100, 64, 113, 64, 2, 12, 6, 85, 57, 4, 42, 52, 14, 52, 64, 79, 99, 14]\n",
      "[23, 15, 23, 15, 15, 23, 23, 23, 23, 7, 23, 23, 23, 15, 23, 1, 15, 23, 15, 23, 23, 15, 23, 23, 23, 23, 3, 7, 23, 23, 7, 2, 3, 2, 6, 7, 2, 5, 2, 15, 15, 23, 6, 6, 7, 5, 7, 2, 6, 23, 1, 3, 2, 7, 3, 7, 1, 23, 15, 15, 6, 2, 5, 3, 2, 6, 1, 3, 1, 7, 1, 2, 3, 23, 7, 2, 7, 3, 15, 2, 1, 5, 2, 15, 2, 15, 2, 3, 2, 2, 2, 1, 5, 7, 2, 7, 15, 2, 7, 2]\n"
     ]
    }
   ],
   "source": [
    "import numpy as np\n",
    "from collections import defaultdict\n",
    "cluster = pd.read_csv('data/misconception_cluster.csv',header=0)\n",
    "cluster = cluster['Cluster']\n",
    "submission = pd.read_csv('data/submission.csv',header=0)\n",
    "ids = submission['MisconceptionId']\n",
    "\n",
    "ids = list(map(int, ids[0].split()))\n",
    "print(ids)\n",
    "\n",
    "cluster_ids = [cluster[id] for id in ids]\n",
    "counts = defaultdict(int)\n",
    "for cluster_id in cluster_ids:\n",
    "    counts[cluster_id] += 1\n",
    "\n",
    "counts_ls = [counts[cluster_id] for cluster_id in cluster_ids]\n",
    "\n",
    "print(cluster_ids)\n",
    "print(counts_ls)"
   ]
  },
  {
   "cell_type": "code",
   "execution_count": null,
   "metadata": {},
   "outputs": [
    {
     "name": "stdout",
     "output_type": "stream",
     "text": [
      "Original Tensor:\n",
      "tensor([[0, 1, 2],\n",
      "        [3, 4, 5]])\n",
      "\n",
      "Mapped Tensor:\n",
      "tensor([[10, 20, 30],\n",
      "        [40, 50, 60]])\n"
     ]
    }
   ],
   "source": [
    "import torch\n",
    "\n",
    "def map_tensor(tensor, mapping_dict):\n",
    "\n",
    "    # Step 1: Create a mapping tensor\n",
    "    # Find the maximum key in the dictionary to ensure proper mapping range\n",
    "    max_key = max(mapping_dict.keys())\n",
    "    mapping_tensor = torch.zeros(max_key + 1, dtype=torch.int64)\n",
    "    for key, value in mapping_dict.items():\n",
    "        mapping_tensor[key] = value\n",
    "\n",
    "    # Step 2: Apply the mapping using the 2D tensor as an index\n",
    "    mapped_tensor = mapping_tensor[tensor]\n",
    "    return mapped_tensor\n",
    "\n",
    "print(\"Original Tensor:\")\n",
    "print(tensor)\n",
    "print(\"\\nMapped Tensor:\")\n",
    "print(mapped_tensor)"
   ]
  },
  {
   "cell_type": "code",
   "execution_count": 20,
   "metadata": {},
   "outputs": [
    {
     "name": "stdout",
     "output_type": "stream",
     "text": [
      "Final Reordered Candidates:\n",
      "tensor([[3, 2, 1, 0]])\n"
     ]
    }
   ],
   "source": [
    "import torch\n",
    "\n",
    "# Example tensors\n",
    "candidates = torch.tensor([[0, 1, 2, 3]])  # Shape: (B, 100)\n",
    "clusters = torch.tensor([[0, 1, 1, 0]])    # Shape: (B, 100)\n",
    "reranked = torch.tensor([[2, 3, 1, 0]])    # Shape: (B, 100)\n",
    "\n",
    "B, N = candidates.shape  # B: Batch size, N: Number of elements per row\n",
    "\n",
    "# Step 1: Create a position mapping for `reranked`\n",
    "# For each element in `candidates`, find its position in `reranked`\n",
    "reranked_positions = torch.argsort(reranked, dim=1)\n",
    "\n",
    "# Step 2: Create a tensor to store final reordered candidates\n",
    "final_candidates = candidates.clone()\n",
    "\n",
    "# Step 3: Process each cluster in parallel\n",
    "for b in range(B):  # Batch-wise processing\n",
    "    unique_clusters = torch.unique(clusters[b])  # Unique cluster IDs in the row\n",
    "    for cluster_id in unique_clusters:\n",
    "        # Mask for the current cluster\n",
    "        cluster_mask = (clusters[b] == cluster_id)\n",
    "        cluster_indices = cluster_mask.nonzero(as_tuple=True)[0]\n",
    "\n",
    "        # Get the `candidates` corresponding to the current cluster\n",
    "        cluster_candidates = candidates[b, cluster_indices]\n",
    "\n",
    "        # Get the order of these candidates from `reranked_positions`\n",
    "        cluster_rerank_indices = torch.argsort(reranked_positions[b, cluster_indices])\n",
    "\n",
    "        # Reorder the `candidates` within the cluster\n",
    "        final_candidates[b, cluster_indices] = cluster_candidates[cluster_rerank_indices]\n",
    "\n",
    "print(\"Final Reordered Candidates:\")\n",
    "print(final_candidates)\n"
   ]
  },
  {
   "cell_type": "code",
   "execution_count": 3,
   "metadata": {},
   "outputs": [
    {
     "data": {
      "text/plain": [
       "QuestionId                                                            2\n",
       "ConstructId                                                      2774.0\n",
       "ConstructName                   Calculate the range from a list of data\n",
       "SubjectId                                                         339.0\n",
       "SubjectName           Range and Interquartile Range from a List of Data\n",
       "CorrectAnswer                                                         B\n",
       "QuestionText          Tom and Katie are discussing the \\( 5 \\) plant...\n",
       "AnswerAText                                                   Only\\nTom\n",
       "AnswerBText                                                 Only\\nKatie\n",
       "AnswerCText                                          Both Tom and Katie\n",
       "AnswerDText                                          Neither is correct\n",
       "MisconceptionAId                                                 1287.0\n",
       "MisconceptionBId                                                    NaN\n",
       "MisconceptionCId                                                 1287.0\n",
       "MisconceptionDId                                                 1073.0\n",
       "source                                                         original\n",
       "MisconceptionAName    Believes if you changed all values by the same...\n",
       "MisconceptionBName                                                  NaN\n",
       "MisconceptionCName    Believes if you changed all values by the same...\n",
       "MisconceptionDName    Believes if you add the same value to all numb...\n",
       "OriginalQuestionId                                                  NaN\n",
       "Name: 2, dtype: object"
      ]
     },
     "execution_count": 3,
     "metadata": {},
     "output_type": "execute_result"
    }
   ],
   "source": [
    "import pandas as pd\n",
    "df = pd.read_csv('data/all_train.csv', header=0)\n",
    "df.iloc[2]"
   ]
  },
  {
   "cell_type": "code",
   "execution_count": null,
   "metadata": {},
   "outputs": [],
   "source": []
  }
 ],
 "metadata": {
  "kernelspec": {
   "display_name": "computer-vision",
   "language": "python",
   "name": "python3"
  },
  "language_info": {
   "codemirror_mode": {
    "name": "ipython",
    "version": 3
   },
   "file_extension": ".py",
   "mimetype": "text/x-python",
   "name": "python",
   "nbconvert_exporter": "python",
   "pygments_lexer": "ipython3",
   "version": "3.12.2"
  }
 },
 "nbformat": 4,
 "nbformat_minor": 2
}
