{
 "cells": [
  {
   "cell_type": "code",
   "execution_count": null,
   "metadata": {},
   "outputs": [],
   "source": [
    "# Load model directly\n",
    "from transformers import AutoTokenizer, AutoModelForCausalLM\n",
    "\n",
    "tokenizer = AutoTokenizer.from_pretrained(\"Qwen/Qwen2.5-Math-7B\")\n",
    "model = AutoModelForCausalLM.from_pretrained(\"Qwen/Qwen2.5-Math-7B\")"
   ]
  },
  {
   "cell_type": "code",
   "execution_count": 38,
   "metadata": {},
   "outputs": [],
   "source": [
    "import pandas as pd\n",
    "data_path = 'data/finetune_data.csv'\n",
    "df = pd.read_csv(data_path, header=0)"
   ]
  },
  {
   "cell_type": "code",
   "execution_count": null,
   "metadata": {},
   "outputs": [
    {
     "name": "stdout",
     "output_type": "stream",
     "text": [
      "You are a math expert. Given a math question, its correct answer and wrong answer,     tell me what kind of misconception might the student who answers the wrong answer have.         Here is an example: Question Text: Which type of graph is represented by the equation \\( y=\\frac{1}{x} \\)?\n",
      "             Correct Answer Text: A reciprocal graph                Wrong Answer Text: A quadratic graph                    The misconception for the wrong answer is Confuses reciprocal and quadratic graphs                        Now tell me what misconception does the following wrong answer imply:                             Question Text: In a triangle, the two base angles are 60 degrees and 70 degrees. What is the measure of the third angle?\n",
      "Correct Answer Text: 50 degrees\n",
      "Wrong Answer Text: 130 degrees\n",
      "        \n"
     ]
    }
   ],
   "source": [
    "prompt = \"\"\"You are a math expert. Given a math question, its correct answer and wrong answer, \\\n",
    "tell me what kind of misconception might the student who answers the wrong answer have. \\\n",
    "Here is an example: Question Text: Which type of graph is represented by the equation \\\\( y=\\\\frac{{1}}{{x}} \\\\)?\\n\\\n",
    "Correct Answer Text: A reciprocal graph\\n\\\n",
    "Wrong Answer Text: A quadratic graph\\n\\\n",
    "The misconception for the wrong answer is: Confuses reciprocal and quadratic graphs.\\n\\\n",
    "Now tell me what misconception does the following wrong answer imply: {question}\"\"\"\n",
    "\n",
    "prompts = []\n",
    "for question in df['LLM_Response']:\n",
    "    prompts.append(prompt.format(question=question))\n",
    "    print(prompts[len(prompts)-1])\n",
    "    break\n"
   ]
  },
  {
   "cell_type": "markdown",
   "metadata": {},
   "source": [
    "### Combine synthetic dataset with existing dataset"
   ]
  },
  {
   "cell_type": "code",
   "execution_count": null,
   "metadata": {},
   "outputs": [],
   "source": [
    "misconceptions = pd.read_csv('data/misconception_mapping.csv', header=0)\n",
    "train = pd.read_csv('data/train.csv', header=0)\n",
    "\n",
    "# Initialize an empty list to collect rows for the new DataFrame\n",
    "rows = []\n",
    "\n",
    "# Iterate through each row in the `train` DataFrame\n",
    "for _, row in train.iterrows():\n",
    "    # Iterate through the possible misconceptions A, B, C, D\n",
    "    for option in ['A', 'B', 'C', 'D']:\n",
    "        misconception_id_col = f'Misconception{option}Id'\n",
    "        answer_text_col = f'Answer{option}Text'\n",
    "        \n",
    "        misconception_id = row[misconception_id_col]\n",
    "        # Check if the misconception ID is valid\n",
    "        if pd.notna(misconception_id) and int(misconception_id) <= len(misconceptions):\n",
    "            misconception_name = misconceptions.loc[\n",
    "                misconceptions['MisconceptionId'] == int(misconception_id), 'MisconceptionName'\n",
    "            ].values[0]\n",
    "            \n",
    "            correct_answer_text = row[f'Answer{row.CorrectAnswer}Text']\n",
    "            wrong_answer_text = row[answer_text_col]\n",
    "            question_text = row['QuestionText']\n",
    "            \n",
    "            llm_response = (\n",
    "                f\"Question Text: {question_text} \\n\"\n",
    "                f\"Correct Answer Text: {correct_answer_text} \\n\"\n",
    "                f\"Wrong Answer Text: {wrong_answer_text}\"\n",
    "            )\n",
    "            \n",
    "            # Add the row to the list\n",
    "            rows.append({\n",
    "                'MisconceptionName': misconception_name,\n",
    "                'LLM_Response': llm_response,\n",
    "            })\n",
    "\n",
    "# Create the new DataFrame\n",
    "result_df = pd.DataFrame(rows)\n",
    "combined_df = pd.concat([df, result_df], ignore_index=True, axis=0)\n",
    "combined_df.to_csv('data/finetune_data.csv', index=False)\n"
   ]
  },
  {
   "cell_type": "code",
   "execution_count": null,
   "metadata": {},
   "outputs": [],
   "source": []
  }
 ],
 "metadata": {
  "kernelspec": {
   "display_name": "computer-vision",
   "language": "python",
   "name": "python3"
  },
  "language_info": {
   "codemirror_mode": {
    "name": "ipython",
    "version": 3
   },
   "file_extension": ".py",
   "mimetype": "text/x-python",
   "name": "python",
   "nbconvert_exporter": "python",
   "pygments_lexer": "ipython3",
   "version": "3.12.2"
  }
 },
 "nbformat": 4,
 "nbformat_minor": 2
}
